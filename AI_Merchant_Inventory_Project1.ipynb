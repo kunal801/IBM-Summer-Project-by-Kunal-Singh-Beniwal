{
  "nbformat": 4,
  "nbformat_minor": 0,
  "metadata": {
    "colab": {
      "provenance": [],
      "authorship_tag": "ABX9TyP66QWCssdG968g2QE9UEuo",
      "include_colab_link": true
    },
    "kernelspec": {
      "name": "python3",
      "display_name": "Python 3"
    },
    "language_info": {
      "name": "python"
    }
  },
  "cells": [
    {
      "cell_type": "markdown",
      "metadata": {
        "id": "view-in-github",
        "colab_type": "text"
      },
      "source": [
        "<a href=\"https://colab.research.google.com/github/kunal801/IBM-Summer-Project-by-Kunal-Singh-Beniwal/blob/main/AI_Merchant_Inventory_Kunal.ipynb\" target=\"_parent\"><img src=\"https://colab.research.google.com/assets/colab-badge.svg\" alt=\"Open In Colab\"/></a>"
      ]
    },
    {
      "cell_type": "code",
      "source": [
        "!pip install -q opencv-python matplotlib pillow\n",
        "!pip install -q git+https://github.com/facebookresearch/segment-anything.git\n",
        "!pip install -q git+https://github.com/huggingface/diffusers.git\n",
        "!pip install -q transformers accelerate\n",
        "!pip install -q gradio\n",
        "!pip install -q scikit-image"
      ],
      "metadata": {
        "colab": {
          "base_uri": "https://localhost:8080/"
        },
        "id": "gefnY2P8febL",
        "outputId": "3a0e78e7-2bf9-428f-dd09-d7a32be949f4"
      },
      "execution_count": null,
      "outputs": [
        {
          "output_type": "stream",
          "name": "stdout",
          "text": [
            "  Preparing metadata (setup.py) ... \u001b[?25l\u001b[?25hdone\n",
            "  Installing build dependencies ... \u001b[?25l\u001b[?25hdone\n",
            "  Getting requirements to build wheel ... \u001b[?25l\u001b[?25hdone\n",
            "  Preparing metadata (pyproject.toml) ... \u001b[?25l\u001b[?25hdone\n"
          ]
        }
      ]
    },
    {
      "cell_type": "code",
      "execution_count": null,
      "metadata": {
        "id": "ChrgGkrpYF7H"
      },
      "outputs": [],
      "source": [
        "import gradio as gr\n",
        "import pandas as pd\n",
        "import numpy as np\n",
        "import random\n",
        "import time\n",
        "import io"
      ]
    },
    {
      "cell_type": "code",
      "source": [
        "\n",
        "def ai_suggest_price(category, cost_price):\n",
        "    margin_map = {\n",
        "        \"electronics\": 0.25,\n",
        "        \"fashion\": 0.5,\n",
        "        \"grocery\": 0.15,\n",
        "        \"furniture\": 0.4,\n",
        "        \"other\": 0.2\n",
        "    }\n",
        "    margin = margin_map.get(category.lower(), 0.3)\n",
        "    return round(float(cost_price) * (1 + margin), 2)\n",
        "\n",
        "inventory_store = {}"
      ],
      "metadata": {
        "id": "IuY38AnMeCkw"
      },
      "execution_count": null,
      "outputs": []
    },
    {
      "cell_type": "code",
      "source": [
        "def get_inventory_df():\n",
        "    df = pd.DataFrame(list(inventory_store.values()))\n",
        "    if not df.empty:\n",
        "        df[\"Total Cost\"] = df[\"Quantity\"] * df[\"Cost Price\"]\n",
        "        df[\"Total Revenue\"] = df[\"Quantity\"] * df[\"Discounted Price\"]\n",
        "        df[\"Profit\"] = df[\"Total Revenue\"] - df[\"Total Cost\"]\n",
        "    return df\n",
        "\n",
        "def update_inventory(item_id, item, category, quantity, cost_price, selling_price, description, discount=0.0):\n",
        "    cost_price = float(cost_price)\n",
        "    selling_price = float(selling_price)\n",
        "    discount = float(discount)\n",
        "    quantity = int(quantity)\n",
        "\n",
        "    discounted_price = selling_price * (1 - discount / 100)\n",
        "\n",
        "    inventory_store[item_id] = {\n",
        "        \"Item ID\": item_id,\n",
        "        \"Item\": item,\n",
        "        \"Category\": category,\n",
        "        \"Quantity\": quantity,\n",
        "        \"Cost Price\": cost_price,\n",
        "        \"Selling Price\": selling_price,\n",
        "        \"Discount (%)\": discount,\n",
        "        \"Discounted Price\": discounted_price,\n",
        "        \"Description\": description,\n",
        "    }\n",
        "    return get_inventory_df()\n",
        "\n",
        "def delete_item(item_id):\n",
        "    inventory_store.pop(item_id, None)\n",
        "    return get_inventory_df()"
      ],
      "metadata": {
        "id": "WqDqCoLjeJND"
      },
      "execution_count": null,
      "outputs": []
    },
    {
      "cell_type": "code",
      "source": [
        "def import_data(file):\n",
        "    ext = file.name.split(\".\")[-1].lower()\n",
        "    try:\n",
        "        if ext in [\"xlsx\", \"xls\"]:\n",
        "            df = pd.read_excel(file.name)\n",
        "        elif ext == \"csv\":\n",
        "            df = pd.read_csv(file.name)\n",
        "        else:\n",
        "            return \"❌ Unsupported file format. Upload a .csv or .xlsx file.\"\n",
        "    except Exception as e:\n",
        "        return f\"❌ Error reading file: {str(e)}\"\n",
        "\n",
        "    required_columns = {\"Item ID\", \"Item\", \"Category\", \"Quantity\", \"Cost Price\", \"Selling Price\", \"Description\"}\n",
        "    missing = required_columns - set(df.columns)\n",
        "    if missing:\n",
        "        return f\"⚠️ Missing columns in your file: {', '.join(missing)}. Please correct and re-upload.\"\n",
        "\n",
        "    for _, row in df.iterrows():\n",
        "        update_inventory(\n",
        "            str(row.get(\"Item ID\", f\"auto-{random.randint(1000,9999)}\")),\n",
        "            row.get(\"Item\", \"\"),\n",
        "            row.get(\"Category\", \"other\"),\n",
        "            row.get(\"Quantity\", 0),\n",
        "            row.get(\"Cost Price\", 0.0),\n",
        "            row.get(\"Selling Price\", 0.0),\n",
        "            row.get(\"Description\", \"\")\n",
        "        )\n",
        "    return get_inventory_df()\n",
        "\n",
        "def download_inventory():\n",
        "    df = get_inventory_df()\n",
        "    if df.empty:\n",
        "        return None\n",
        "    out = io.BytesIO()\n",
        "    df.to_excel(out, index=False)\n",
        "    out.seek(0)\n",
        "    return out.read(), \"inventory.xlsx\""
      ],
      "metadata": {
        "id": "jXmvxzaqeRIk"
      },
      "execution_count": null,
      "outputs": []
    },
    {
      "cell_type": "code",
      "source": [
        "def inventory_analytics():\n",
        "    df = get_inventory_df()\n",
        "    if df.empty:\n",
        "        return \"⚠️ No inventory data available.\"\n",
        "\n",
        "    total_items = len(df)\n",
        "    total_stock = df[\"Quantity\"].sum()\n",
        "    total_cost = df[\"Total Cost\"].sum()\n",
        "    total_revenue = df[\"Total Revenue\"].sum()\n",
        "    total_profit = df[\"Profit\"].sum()\n",
        "    top_items = df.sort_values(by=\"Profit\", ascending=False).head(3)\n",
        "\n",
        "    report = f\"\"\"\n",
        "📊 **Inventory Summary**\n",
        "────────────────────────────\n",
        "🧾 **Total Items:** {total_items}\n",
        "📦 **Total Stock:** {total_stock}\n",
        "💰 **Total Investment:** ₹{total_cost:,.2f}\n",
        "📈 **Expected Revenue:** ₹{total_revenue:,.2f}\n",
        "📊 **Expected Profit:** ₹{total_profit:,.2f}\n",
        "\n",
        "🔥 **Top Profitable Items:**\n",
        "{top_items[['Item', 'Profit']].to_string(index=False)}\n",
        "    \"\"\"\n",
        "    return report"
      ],
      "metadata": {
        "id": "zMj0K3UKeuF1"
      },
      "execution_count": null,
      "outputs": []
    },
    {
      "cell_type": "code",
      "source": [
        "def item_analytics(item_id):\n",
        "    if item_id not in inventory_store:\n",
        "        return \"❌ Item ID not found.\"\n",
        "    item = inventory_store[item_id]\n",
        "    total_cost = item['Quantity'] * item['Cost Price']\n",
        "    total_revenue = item['Quantity'] * item['Selling Price']\n",
        "    profit = total_revenue - total_cost\n",
        "\n",
        "    report = f\"\"\"\n",
        "📋 **Item Report: {item['Item']}**\n",
        "────────────────────────────\n",
        "🔢 Quantity: {item['Quantity']}\n",
        "💸 Cost Price: ₹{item['Cost Price']:.2f}\n",
        "💵 Selling Price: ₹{item['Selling Price']:.2f}\n",
        "💰 Total Cost: ₹{total_cost:.2f}\n",
        "📈 Revenue: ₹{total_revenue:.2f}\n",
        "📊 Profit: ₹{profit:.2f}\n",
        "📝 Description: {item['Description'] or 'N/A'}\n",
        "    \"\"\"\n",
        "    return report"
      ],
      "metadata": {
        "id": "HdJKVy-teyoC"
      },
      "execution_count": null,
      "outputs": []
    },
    {
      "cell_type": "code",
      "source": [
        "def ai_recommend_price(category, cost_price):\n",
        "    if not category or not cost_price:\n",
        "        return \"Provide category and cost price.\"\n",
        "    price = ai_suggest_price(category, cost_price)\n",
        "    return f\"🤖 Suggested Optimal Selling Price: ₹{price}\"\n",
        "\n",
        "with gr.Blocks(css=\"\"\"\n",
        "body { background-color: #ffffff; color: #333; font-family: -apple-system, BlinkMacSystemFont, 'Segoe UI', Roboto, Helvetica, Arial, sans-serif; }\n",
        ".gr-button { background-color: #ff6600 !important; color: #fff !important; font-weight: 600; border-radius: 14px; padding: 10px 20px; }\n",
        "input, textarea, .gr-textbox textarea { border: 1px solid #ddd; border-radius: 14px; padding: 10px; }\n",
        "table { font-size: 14px; }\n",
        "\"\"\") as app:\n",
        "\n",
        "    gr.Markdown(\"\"\"# AI Merchant Inventory\n",
        "### Designed & Developed by Kunal Singh Beniwal (22BCE2174)\n",
        "A inventory management system powered by AI. Managed for actionable insights and pricing intelligence.\n",
        "\"\"\")\n",
        "\n",
        "    with gr.Row():\n",
        "        with gr.Column():\n",
        "            item_id = gr.Textbox(label=\"🔖 Item ID (Unique Key)\")\n",
        "            item = gr.Textbox(label=\"📦 Item Name\")\n",
        "            category = gr.Textbox(label=\"🗂️ Category\")\n",
        "            quantity = gr.Number(label=\"🔢 Quantity\")\n",
        "            cost_price = gr.Number(label=\"💸 Cost Price (₹)\")\n",
        "            selling_price = gr.Number(label=\"💵 Selling Price (₹)\")\n",
        "            description = gr.Textbox(label=\"📝 Description (Optional)\", lines=2)\n",
        "\n",
        "            with gr.Row():\n",
        "                add_btn = gr.Button(\"➕ Add / Update Item\")\n",
        "                delete_btn = gr.Button(\"🗑️ Delete Item\")\n",
        "\n",
        "        with gr.Column():\n",
        "            inventory_table = gr.Dataframe(label=\"📋 Inventory View\", interactive=False)\n",
        "            search_box = gr.Textbox(label=\"🔍 Search Item by ID\")\n",
        "            search_output = gr.Textbox(label=\"🔎 Item Analytics\", lines=10)\n",
        "            ai_btn = gr.Button(\"🤖 Suggest Selling Price\")\n",
        "            ai_output = gr.Textbox(label=\"AI Price Suggestion\")\n",
        "            analytics_btn = gr.Button(\"📊 Inventory Report\")\n",
        "            analytics_output = gr.Textbox(label=\"📈 Analytics Overview\", lines=12)\n",
        "            file_input = gr.File(label=\"📁 Upload Inventory File (.csv or .xlsx)\")\n",
        "            import_btn = gr.Button(\"📥 Import File to Inventory\")\n",
        "            export_btn = gr.Button(\"📤 Download Inventory Dataset\")\n",
        "            file_download = gr.File(label=\"📥 Downloaded Inventory File\")\n",
        "\n",
        "    add_btn.click(update_inventory, [item_id, item, category, quantity, cost_price, selling_price, description], inventory_table)\n",
        "    delete_btn.click(delete_item, [item_id], inventory_table)\n",
        "    analytics_btn.click(inventory_analytics, [], analytics_output)\n",
        "    search_box.change(item_analytics, [search_box], search_output)\n",
        "    ai_btn.click(ai_recommend_price, [category, cost_price], ai_output)\n",
        "    import_btn.click(import_data, [file_input], inventory_table)\n",
        "    export_btn.click(download_inventory, [], file_download)\n",
        "\n",
        "app.launch(share=True)"
      ],
      "metadata": {
        "id": "hmrTIQD2e2IA"
      },
      "execution_count": null,
      "outputs": []
    }
  ]
}
